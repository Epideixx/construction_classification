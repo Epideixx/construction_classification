{
 "cells": [
  {
   "cell_type": "code",
   "execution_count": 1,
   "metadata": {},
   "outputs": [],
   "source": [
    "import pandas as pd\n",
    "import numpy as np\n",
    "import seaborn as sns\n",
    "import matplotlib as mpl\n",
    "mpl.style.use('seaborn')\n",
    "from matplotlib import pyplot as plt\n",
    "\n",
    "\n",
    "from sklearn.neighbors import KNeighborsClassifier\n",
    "from sklearn.metrics import accuracy_score\n",
    "from sklearn.model_selection import train_test_split\n",
    "from sklearn.preprocessing import StandardScaler\n",
    "from sklearn.preprocessing import MultiLabelBinarizer\n",
    "\n",
    "from sklearn.metrics import confusion_matrix\n",
    "from sklearn.metrics import classification_report\n",
    "\n"
   ]
  },
  {
   "cell_type": "markdown",
   "metadata": {},
   "source": [
    "<h1> Load the data"
   ]
  },
  {
   "cell_type": "code",
   "execution_count": 2,
   "metadata": {},
   "outputs": [],
   "source": [
    "# Load the data from the csv files\n",
    "\n",
    "train_data = pd.read_csv(\"preprocessed_train.csv\", index_col=\"index\")\n",
    "test_data = pd.read_csv(\"preprocessed_test.csv\", index_col=\"index\")"
   ]
  },
  {
   "cell_type": "code",
   "execution_count": 3,
   "metadata": {},
   "outputs": [],
   "source": [
    "target = \"change_type\"\n",
    "X = train_data.drop(columns = target)\n",
    "Y = train_data[target].map({'Demolition': 0, 'Road': 1, 'Residential': 2, 'Commercial': 3, 'Industrial': 4,\n",
    "       'Mega Projects': 5})"
   ]
  },
  {
   "cell_type": "code",
   "execution_count": 4,
   "metadata": {},
   "outputs": [],
   "source": [
    "X_train, X_test, y_train, y_test = train_test_split(X, Y, shuffle=True)"
   ]
  },
  {
   "cell_type": "markdown",
   "metadata": {},
   "source": [
    "<h1> 5 Models for 1 Prediction"
   ]
  },
  {
   "cell_type": "markdown",
   "metadata": {},
   "source": [
    "<h2> Dataset 1"
   ]
  },
  {
   "cell_type": "code",
   "execution_count": 8,
   "metadata": {},
   "outputs": [
    {
     "data": {
      "text/plain": [
       "2    123230\n",
       "3     74660\n",
       "0     22220\n",
       "1     11151\n",
       "4      1148\n",
       "5        95\n",
       "Name: change_type, dtype: int64"
      ]
     },
     "execution_count": 8,
     "metadata": {},
     "output_type": "execute_result"
    }
   ],
   "source": [
    "n = y_train.value_counts()\n",
    "n"
   ]
  },
  {
   "cell_type": "code",
   "execution_count": 5,
   "metadata": {},
   "outputs": [],
   "source": [
    "from imblearn.over_sampling import RandomOverSampler\n",
    "from imblearn.under_sampling import RandomUnderSampler\n",
    "\n",
    "def new_sampling(X, y, strategy):\n",
    "    strat_under = {}\n",
    "\n",
    "    for cat, nb in strategy.items():\n",
    "        if nb < np.unique(y, return_counts=True)[1][cat]:\n",
    "            strat_under[cat] = nb\n",
    "        else : \n",
    "            strat_under[cat] = np.unique(y, return_counts=True)[1][cat]\n",
    "    X, y = RandomUnderSampler(sampling_strategy=strat_under).fit_resample(X, y)\n",
    "    X, y = RandomOverSampler(sampling_strategy=strategy).fit_resample(X, y)\n",
    "\n",
    "    return X, y"
   ]
  },
  {
   "cell_type": "code",
   "execution_count": 9,
   "metadata": {},
   "outputs": [
    {
     "name": "stderr",
     "output_type": "stream",
     "text": [
      "C:\\Users\\jonat\\AppData\\Local\\Programs\\Python\\Python39\\lib\\site-packages\\imblearn\\utils\\_validation.py:299: UserWarning: After over-sampling, the number of samples (88880) in class 0 will be larger than the number of samples in the majority class (class #0 -> 22220)\n",
      "  warnings.warn(\n"
     ]
    }
   ],
   "source": [
    "k = n[0]*4\n",
    "strategy = {0 : k, 1 : int(k/5), 2 : int(k/5), 3 : int(k/5), 4 : int(k/5), 5 : int(k/5)}\n",
    "\n",
    "X_train0, y_train0 = new_sampling(X_train, y_train, strategy)\n",
    "y_train0 = y_train0.apply(lambda x : 1 if x == 0 else 0)\n"
   ]
  },
  {
   "cell_type": "code",
   "execution_count": 10,
   "metadata": {},
   "outputs": [
    {
     "name": "stderr",
     "output_type": "stream",
     "text": [
      "C:\\Users\\jonat\\AppData\\Local\\Programs\\Python\\Python39\\lib\\site-packages\\imblearn\\utils\\_validation.py:299: UserWarning: After over-sampling, the number of samples (78057) in class 1 will be larger than the number of samples in the majority class (class #0 -> 15611)\n",
      "  warnings.warn(\n"
     ]
    }
   ],
   "source": [
    "k = n[1]*7\n",
    "strategy = {0 : int(k/5), 1 : k, 2 : int(k/5), 3 : int(k/5), 4 : int(k/5), 5 : int(k/5)}\n",
    "\n",
    "X_train1, y_train1 = new_sampling(X_train, y_train, strategy)\n",
    "y_train1 = y_train1.apply(lambda x : 1 if x == 1 else 0)"
   ]
  },
  {
   "cell_type": "code",
   "execution_count": 11,
   "metadata": {},
   "outputs": [],
   "source": [
    "k = n[2]//2\n",
    "strategy = {0 : int(k/5), 1 : int(k/5), 2 : k, 3 : int(k/5), 4 : int(k/5), 5 : int(k/5)}\n",
    "\n",
    "X_train2, y_train2 = new_sampling(X_train, y_train, strategy)\n",
    "y_train2 = y_train2.apply(lambda x : 1 if x == 2 else 0)\n"
   ]
  },
  {
   "cell_type": "code",
   "execution_count": 12,
   "metadata": {},
   "outputs": [],
   "source": [
    "k = n[3]\n",
    "strategy = {0 : int(k/5), 1 : int(k/5), 2 : int(k/5), 3 : k, 4 : int(k/5), 5 : int(k/5)}\n",
    "\n",
    "X_train3, y_train3 = new_sampling(X_train, y_train, strategy)\n",
    "y_train3 = y_train3.apply(lambda x : 1 if x == 3 else 0)\n"
   ]
  },
  {
   "cell_type": "code",
   "execution_count": 13,
   "metadata": {},
   "outputs": [
    {
     "name": "stderr",
     "output_type": "stream",
     "text": [
      "C:\\Users\\jonat\\AppData\\Local\\Programs\\Python\\Python39\\lib\\site-packages\\imblearn\\utils\\_validation.py:299: UserWarning: After over-sampling, the number of samples (17220) in class 4 will be larger than the number of samples in the majority class (class #0 -> 3444)\n",
      "  warnings.warn(\n"
     ]
    }
   ],
   "source": [
    "k = n[4]*15\n",
    "strategy = {0 : int(k/5), 1 : int(k/5), 2 : int(k/5), 3 : int(k/5), 4 : k, 5 : int(k/5)}\n",
    "X_train4, y_train4 = new_sampling(X_train, y_train, strategy)\n",
    "y_train4 = y_train4.apply(lambda x : 1 if x == 4 else 0)"
   ]
  },
  {
   "cell_type": "code",
   "execution_count": 14,
   "metadata": {},
   "outputs": [
    {
     "name": "stderr",
     "output_type": "stream",
     "text": [
      "C:\\Users\\jonat\\AppData\\Local\\Programs\\Python\\Python39\\lib\\site-packages\\imblearn\\utils\\_validation.py:299: UserWarning: After over-sampling, the number of samples (2850) in class 5 will be larger than the number of samples in the majority class (class #0 -> 570)\n",
      "  warnings.warn(\n"
     ]
    }
   ],
   "source": [
    "k = n[5]*30\n",
    "strategy = {0 : int(k/5), 1 : int(k/5), 2 : int(k/5), 3 : int(k/5), 4 : int(k/5), 5 : k}\n",
    "\n",
    "X_train5, y_train5 = new_sampling(X_train, y_train, strategy)\n",
    "y_train5 = y_train5.apply(lambda x : 1 if x == 5 else 0)\n"
   ]
  },
  {
   "cell_type": "markdown",
   "metadata": {},
   "source": [
    "<h2> Model 1"
   ]
  },
  {
   "cell_type": "code",
   "execution_count": 42,
   "metadata": {},
   "outputs": [],
   "source": [
    "from sklearn.ensemble import RandomForestClassifier\n",
    "\n",
    "clf0 = RandomForestClassifier().fit(X_train0, y_train0)\n",
    "clf1 = RandomForestClassifier().fit(X_train1, y_train1)\n",
    "clf2 = RandomForestClassifier().fit(X_train2, y_train2)\n",
    "clf3 = RandomForestClassifier().fit(X_train3, y_train3)\n",
    "clf4 = RandomForestClassifier().fit(X_train4, y_train4)\n",
    "clf5 = RandomForestClassifier().fit(X_train5, y_train5)"
   ]
  },
  {
   "cell_type": "code",
   "execution_count": 43,
   "metadata": {},
   "outputs": [
    {
     "name": "stdout",
     "output_type": "stream",
     "text": [
      "              precision    recall  f1-score   support\n",
      "\n",
      "           0       0.99      0.96      0.98     70130\n",
      "           1       0.70      0.95      0.81      7372\n",
      "\n",
      "    accuracy                           0.96     77502\n",
      "   macro avg       0.85      0.95      0.89     77502\n",
      "weighted avg       0.97      0.96      0.96     77502\n",
      "\n"
     ]
    }
   ],
   "source": [
    "y_pred = clf0.predict(X_test)\n",
    "\n",
    "print(classification_report(y_pred=y_pred, y_true=y_test.apply(lambda x : 1 if x==0 else 0)))"
   ]
  },
  {
   "cell_type": "code",
   "execution_count": 44,
   "metadata": {},
   "outputs": [
    {
     "name": "stdout",
     "output_type": "stream",
     "text": [
      "              precision    recall  f1-score   support\n",
      "\n",
      "           0       0.99      0.94      0.97     73726\n",
      "           1       0.41      0.78      0.54      3776\n",
      "\n",
      "    accuracy                           0.94     77502\n",
      "   macro avg       0.70      0.86      0.75     77502\n",
      "weighted avg       0.96      0.94      0.94     77502\n",
      "\n"
     ]
    }
   ],
   "source": [
    "y_pred = clf1.predict(X_test)\n",
    "\n",
    "print(classification_report(y_pred=y_pred, y_true=y_test.apply(lambda x : 1 if x==1 else 0)))"
   ]
  },
  {
   "cell_type": "code",
   "execution_count": 45,
   "metadata": {},
   "outputs": [
    {
     "name": "stdout",
     "output_type": "stream",
     "text": [
      "              precision    recall  f1-score   support\n",
      "\n",
      "           0       0.82      0.59      0.68     36385\n",
      "           1       0.71      0.88      0.79     41117\n",
      "\n",
      "    accuracy                           0.74     77502\n",
      "   macro avg       0.76      0.73      0.73     77502\n",
      "weighted avg       0.76      0.74      0.74     77502\n",
      "\n"
     ]
    }
   ],
   "source": [
    "y_pred = clf2.predict(X_test)\n",
    "\n",
    "print(classification_report(y_pred=y_pred, y_true=y_test.apply(lambda x : 1 if x==2 else 0)))"
   ]
  },
  {
   "cell_type": "code",
   "execution_count": 46,
   "metadata": {},
   "outputs": [
    {
     "name": "stdout",
     "output_type": "stream",
     "text": [
      "              precision    recall  f1-score   support\n",
      "\n",
      "           0       0.91      0.49      0.64     52672\n",
      "           1       0.46      0.90      0.61     24830\n",
      "\n",
      "    accuracy                           0.62     77502\n",
      "   macro avg       0.68      0.70      0.62     77502\n",
      "weighted avg       0.77      0.62      0.63     77502\n",
      "\n"
     ]
    }
   ],
   "source": [
    "y_pred = clf3.predict(X_test)\n",
    "\n",
    "print(classification_report(y_pred=y_pred, y_true=y_test.apply(lambda x : 1 if x==3 else 0)))"
   ]
  },
  {
   "cell_type": "code",
   "execution_count": 47,
   "metadata": {},
   "outputs": [
    {
     "name": "stdout",
     "output_type": "stream",
     "text": [
      "              precision    recall  f1-score   support\n",
      "\n",
      "           0       1.00      0.98      0.99     77123\n",
      "           1       0.09      0.44      0.15       379\n",
      "\n",
      "    accuracy                           0.98     77502\n",
      "   macro avg       0.54      0.71      0.57     77502\n",
      "weighted avg       0.99      0.98      0.98     77502\n",
      "\n"
     ]
    }
   ],
   "source": [
    "y_pred = clf4.predict(X_test)\n",
    "\n",
    "print(classification_report(y_pred=y_pred, y_true=y_test.apply(lambda x : 1 if x==4 else 0)))"
   ]
  },
  {
   "cell_type": "code",
   "execution_count": 48,
   "metadata": {},
   "outputs": [
    {
     "name": "stdout",
     "output_type": "stream",
     "text": [
      "              precision    recall  f1-score   support\n",
      "\n",
      "           0       1.00      1.00      1.00     77474\n",
      "           1       0.02      0.14      0.04        28\n",
      "\n",
      "    accuracy                           1.00     77502\n",
      "   macro avg       0.51      0.57      0.52     77502\n",
      "weighted avg       1.00      1.00      1.00     77502\n",
      "\n"
     ]
    }
   ],
   "source": [
    "y_pred = clf5.predict(X_test)\n",
    "\n",
    "print(classification_report(y_pred=y_pred, y_true=y_test.apply(lambda x : 1 if x==5 else 0)))"
   ]
  },
  {
   "cell_type": "code",
   "execution_count": 58,
   "metadata": {},
   "outputs": [
    {
     "data": {
      "text/plain": [
       "array([[0.  , 0.01, 0.02, ..., 0.1 , 0.  , 0.01],\n",
       "       [0.07, 0.02, 0.02, ..., 0.17, 0.12, 0.  ],\n",
       "       [0.93, 0.99, 0.98, ..., 0.86, 0.9 , 0.35],\n",
       "       [0.47, 0.42, 0.43, ..., 0.49, 0.65, 1.  ],\n",
       "       [0.19, 0.02, 0.  , ..., 0.05, 0.02, 0.02],\n",
       "       [0.09, 0.01, 0.  , ..., 0.04, 0.04, 0.03]])"
      ]
     },
     "execution_count": 58,
     "metadata": {},
     "output_type": "execute_result"
    }
   ],
   "source": [
    "y_pred = np.array([clf0.predict_proba(X_test)[:, 1], clf1.predict_proba(X_test)[:, 1], clf2.predict_proba(X_test)[:, 1], clf3.predict_proba(X_test)[:, 1], clf4.predict_proba(X_test)[:, 1], clf5.predict_proba(X_test)[:, 1]])\n",
    "y_pred"
   ]
  },
  {
   "cell_type": "code",
   "execution_count": 63,
   "metadata": {},
   "outputs": [
    {
     "name": "stdout",
     "output_type": "stream",
     "text": [
      "              precision    recall  f1-score   support\n",
      "\n",
      "           0       0.73      0.94      0.82      7372\n",
      "           1       0.57      0.67      0.62      3776\n",
      "           2       0.84      0.71      0.77     41117\n",
      "           3       0.61      0.69      0.65     24830\n",
      "           4       0.15      0.28      0.19       379\n",
      "           5       0.10      0.14      0.12        28\n",
      "\n",
      "    accuracy                           0.72     77502\n",
      "   macro avg       0.50      0.57      0.53     77502\n",
      "weighted avg       0.74      0.72      0.72     77502\n",
      "\n"
     ]
    }
   ],
   "source": [
    "y_pred = y_pred.argmax(axis = 0)\n",
    "\n",
    "print(classification_report(y_pred=y_pred, y_true=y_test))"
   ]
  },
  {
   "cell_type": "code",
   "execution_count": 72,
   "metadata": {},
   "outputs": [
    {
     "data": {
      "text/plain": [
       "array([[ 6895,    55,    91,   324,     7,     0],\n",
       "       [   27,  2531,   224,   981,    13,     0],\n",
       "       [ 1629,   589, 29030,  9630,   216,    23],\n",
       "       [  843,  1222,  5251, 17125,   379,    10],\n",
       "       [   12,    15,    90,   155,   105,     2],\n",
       "       [    1,     1,     9,    13,     0,     4]], dtype=int64)"
      ]
     },
     "execution_count": 72,
     "metadata": {},
     "output_type": "execute_result"
    }
   ],
   "source": [
    "confusion_matrix(y_test, y_pred)"
   ]
  },
  {
   "cell_type": "code",
   "execution_count": 31,
   "metadata": {},
   "outputs": [],
   "source": [
    "# A SUPPRIMER QUAND J'AURAIS CORRIGE LE PREPROCESS SUR LINUX\n",
    "test_data = test_data.drop(columns=[\"change_type\"])"
   ]
  },
  {
   "cell_type": "code",
   "execution_count": null,
   "metadata": {},
   "outputs": [],
   "source": [
    "# For submission\n",
    "\n",
    "y_pred_final = np.array([clf0.predict_proba(test_data)[:, 1], clf1.predict_proba(test_data)[:, 1], clf2.predict_proba(test_data)[:, 1], clf3.predict_proba(test_data)[:, 1], clf4.predict_proba(test_data)[:, 1], clf5.predict_proba(test_data)[:, 1]])\n",
    "y_pred_final = y_pred_final.argmax(axis = 0)"
   ]
  },
  {
   "cell_type": "code",
   "execution_count": 69,
   "metadata": {},
   "outputs": [],
   "source": [
    "pred_df = pd.DataFrame(y_pred_final, columns=['change_type'])\n",
    "pred_df.to_csv(\"first_sample_submission.csv\", index=True, index_label='Id')"
   ]
  },
  {
   "cell_type": "markdown",
   "metadata": {},
   "source": [
    "<h2> Model 2"
   ]
  },
  {
   "cell_type": "code",
   "execution_count": 6,
   "metadata": {},
   "outputs": [],
   "source": [
    "from lightgbm import LGBMClassifier\n"
   ]
  },
  {
   "cell_type": "code",
   "execution_count": null,
   "metadata": {},
   "outputs": [],
   "source": [
    "from lightgbm import LGBMClassifier\n",
    "\n",
    "clf0 = LGBMClassifier().fit(X_train0, y_train0)\n",
    "clf1 = LGBMClassifier().fit(X_train1, y_train1)\n",
    "clf2 = LGBMClassifier().fit(X_train2, y_train2)\n",
    "clf3 = LGBMClassifier().fit(X_train3, y_train3)\n",
    "clf4 = LGBMClassifier().fit(X_train4, y_train4)\n",
    "clf5 = LGBMClassifier().fit(X_train5, y_train5)"
   ]
  },
  {
   "cell_type": "code",
   "execution_count": 29,
   "metadata": {},
   "outputs": [
    {
     "name": "stdout",
     "output_type": "stream",
     "text": [
      "              precision    recall  f1-score   support\n",
      "\n",
      "           0       0.74      0.94      0.83      7518\n",
      "           1       0.52      0.83      0.64      3869\n",
      "           2       0.85      0.70      0.77     40890\n",
      "           3       0.62      0.64      0.63     24802\n",
      "           4       0.09      0.51      0.16       384\n",
      "           5       0.01      0.10      0.02        39\n",
      "\n",
      "    accuracy                           0.71     77502\n",
      "   macro avg       0.47      0.62      0.51     77502\n",
      "weighted avg       0.75      0.71      0.72     77502\n",
      "\n"
     ]
    },
    {
     "data": {
      "text/plain": [
       "array([[ 7094,    58,    72,   263,    24,     7],\n",
       "       [   19,  3206,   136,   466,    36,     6],\n",
       "       [ 1614,   959, 28655,  8834,   682,   146],\n",
       "       [  870,  1917,  4769, 15971,  1135,   140],\n",
       "       [    8,    18,    74,    82,   196,     6],\n",
       "       [    1,     3,    14,    10,     7,     4]], dtype=int64)"
      ]
     },
     "execution_count": 29,
     "metadata": {},
     "output_type": "execute_result"
    }
   ],
   "source": [
    "y_pred = np.array([clf0.predict_proba(X_test)[:, 1], clf1.predict_proba(X_test)[:, 1], clf2.predict_proba(X_test)[:, 1], clf3.predict_proba(X_test)[:, 1], clf4.predict_proba(X_test)[:, 1], clf5.predict_proba(X_test)[:, 1]])\n",
    "y_pred = y_pred.argmax(axis = 0)\n",
    "\n",
    "print(classification_report(y_pred=y_pred, y_true=y_test))\n",
    "confusion_matrix(y_test, y_pred)"
   ]
  },
  {
   "cell_type": "code",
   "execution_count": 32,
   "metadata": {},
   "outputs": [],
   "source": [
    "# For submission\n",
    "\n",
    "y_pred_final = np.array([clf0.predict_proba(test_data)[:, 1], clf1.predict_proba(test_data)[:, 1], clf2.predict_proba(test_data)[:, 1], clf3.predict_proba(test_data)[:, 1], clf4.predict_proba(test_data)[:, 1], clf5.predict_proba(test_data)[:, 1]])\n",
    "y_pred_final = y_pred_final.argmax(axis = 0)\n",
    "\n",
    "pred_df = pd.DataFrame(y_pred_final, columns=['change_type'])\n",
    "pred_df.to_csv(\"second_sample_submission.csv\", index=True, index_label='Id')"
   ]
  },
  {
   "cell_type": "markdown",
   "metadata": {},
   "source": [
    "<h2> Data 2"
   ]
  },
  {
   "cell_type": "code",
   "execution_count": 22,
   "metadata": {},
   "outputs": [],
   "source": [
    "k = n[0]*4\n",
    "\n",
    "y_train0 = y_train.apply(lambda x : 1 if x == 0 else 0)\n",
    "strategy = {0 : k, 1 : k}\n",
    "\n",
    "X_train0, y_train0 = new_sampling(X_train, y_train0, strategy)\n"
   ]
  },
  {
   "cell_type": "code",
   "execution_count": 23,
   "metadata": {},
   "outputs": [],
   "source": [
    "k = n[1]*7\n",
    "\n",
    "y_train1 = y_train.apply(lambda x : 1 if x == 1 else 0)\n",
    "strategy = {0 : k, 1 : k}\n",
    "\n",
    "X_train1, y_train1 = new_sampling(X_train, y_train1, strategy)\n"
   ]
  },
  {
   "cell_type": "code",
   "execution_count": 24,
   "metadata": {},
   "outputs": [],
   "source": [
    "k = n[2]//2\n",
    "\n",
    "y_train2 = y_train.apply(lambda x : 1 if x == 2 else 0)\n",
    "strategy = {0 : k, 1 : k}\n",
    "\n",
    "X_train2, y_train2 = new_sampling(X_train, y_train2, strategy)\n"
   ]
  },
  {
   "cell_type": "code",
   "execution_count": 25,
   "metadata": {},
   "outputs": [],
   "source": [
    "k = n[3]\n",
    "\n",
    "y_train3 = y_train.apply(lambda x : 1 if x == 3 else 0)\n",
    "strategy = {0 : k, 1 : k}\n",
    "\n",
    "X_train3, y_train3 = new_sampling(X_train, y_train3, strategy)\n"
   ]
  },
  {
   "cell_type": "code",
   "execution_count": 26,
   "metadata": {},
   "outputs": [],
   "source": [
    "k = n[4]*15\n",
    "\n",
    "y_train4 = y_train.apply(lambda x : 1 if x == 4 else 0)\n",
    "strategy = {0 : k, 1 : k}\n",
    "\n",
    "X_train4, y_train4 = new_sampling(X_train, y_train4, strategy)\n"
   ]
  },
  {
   "cell_type": "code",
   "execution_count": 27,
   "metadata": {},
   "outputs": [],
   "source": [
    "k = n[5]*30\n",
    "\n",
    "y_train5 = y_train.apply(lambda x : 1 if x == 5 else 0)\n",
    "strategy = {0 : k, 1 : k}\n",
    "\n",
    "X_train5, y_train5 = new_sampling(X_train, y_train5, strategy)\n"
   ]
  },
  {
   "cell_type": "markdown",
   "metadata": {},
   "source": [
    "<h2> Model 3"
   ]
  },
  {
   "cell_type": "code",
   "execution_count": 33,
   "metadata": {},
   "outputs": [],
   "source": [
    "from sklearn.ensemble import GradientBoostingClassifier\n",
    "\n",
    "clf0 = GradientBoostingClassifier().fit(X_train0, y_train0)\n",
    "clf1 = GradientBoostingClassifier().fit(X_train1, y_train1)\n",
    "clf2 = GradientBoostingClassifier().fit(X_train2, y_train2)\n",
    "clf3 = GradientBoostingClassifier().fit(X_train3, y_train3)\n",
    "clf4 = GradientBoostingClassifier().fit(X_train4, y_train4)\n",
    "clf5 = GradientBoostingClassifier().fit(X_train5, y_train5)"
   ]
  },
  {
   "cell_type": "code",
   "execution_count": 37,
   "metadata": {},
   "outputs": [
    {
     "name": "stdout",
     "output_type": "stream",
     "text": [
      "              precision    recall  f1-score   support\n",
      "\n",
      "           0       0.74      0.94      0.83      7518\n",
      "           1       0.42      0.80      0.55      3869\n",
      "           2       0.81      0.68      0.74     40890\n",
      "           3       0.58      0.51      0.54     24802\n",
      "           4       0.07      0.45      0.13       384\n",
      "           5       0.00      0.23      0.01        39\n",
      "\n",
      "    accuracy                           0.66     77502\n",
      "   macro avg       0.44      0.60      0.47     77502\n",
      "weighted avg       0.71      0.66      0.67     77502\n",
      "\n",
      "[[ 7065    57    83   234    33    46]\n",
      " [   16  3077   235   477    35    29]\n",
      " [ 1630  1237 27788  8291   911  1033]\n",
      " [  872  2919  6184 12663  1228   936]\n",
      " [    9    28    96    61   173    17]\n",
      " [    1     3    15     8     3     9]]\n"
     ]
    },
    {
     "data": {
      "text/plain": [
       "<AxesSubplot:>"
      ]
     },
     "execution_count": 37,
     "metadata": {},
     "output_type": "execute_result"
    },
    {
     "data": {
      "image/png": "[encoded data removed]",
      "text/plain": [
       "<Figure size 576x396 with 2 Axes>"
      ]
     },
     "metadata": {},
     "output_type": "display_data"
    }
   ],
   "source": [
    "y_pred = np.array([clf0.predict_proba(X_test)[:, 1], clf1.predict_proba(X_test)[:, 1], clf2.predict_proba(X_test)[:, 1], clf3.predict_proba(X_test)[:, 1], clf4.predict_proba(X_test)[:, 1], clf5.predict_proba(X_test)[:, 1]])\n",
    "y_pred = y_pred.argmax(axis = 0)\n",
    "\n",
    "print(classification_report(y_pred=y_pred, y_true=y_test))\n",
    "cf_matrix = confusion_matrix(y_test, y_pred)\n",
    "print(cf_matrix)\n",
    "sns.heatmap(cf_matrix/np.sum(cf_matrix), annot = True, fmt = '.2%', cmap = 'Blues')"
   ]
  },
  {
   "cell_type": "markdown",
   "metadata": {},
   "source": [
    "<h2> Short summary for the moment"
   ]
  },
  {
   "cell_type": "markdown",
   "metadata": {},
   "source": [
    "No matter how we created the data, and the model, it seems that there are big confusions: \n",
    "- class 2 is predicted as class 0\n",
    "- between class 2 and 3\n",
    "- class 5 has really big troubles ==> especially class 5 often predicted as class 2 and 3\n",
    "- class 3 predicted as class 1\n",
    "- class 4 often predicted as class 2 and 3"
   ]
  },
  {
   "cell_type": "markdown",
   "metadata": {},
   "source": [
    "<h1> New model with class"
   ]
  },
  {
   "cell_type": "code",
   "execution_count": 7,
   "metadata": {},
   "outputs": [],
   "source": [
    "from sklearn.base import BaseEstimator, ClassifierMixin\n",
    "from sklearn.utils.validation import check_X_y, check_array, check_is_fitted\n",
    "from sklearn.utils.multiclass import unique_labels\n",
    "from sklearn.linear_model import LogisticRegression\n",
    "from sklearn.ensemble import RandomForestClassifier, AdaBoostClassifier, GradientBoostingClassifier\n",
    "\n",
    "\n",
    "class GigaClassifier(BaseEstimator, ClassifierMixin):\n",
    "\n",
    "    def __init__(self):\n",
    "        self.clf0 = LGBMClassifier()\n",
    "        self.clf1 = LGBMClassifier()\n",
    "        self.clf2 = LGBMClassifier()\n",
    "        self.clf3 = LGBMClassifier()\n",
    "        self.clf4 = LGBMClassifier()\n",
    "        self.clf5 = LGBMClassifier()\n",
    "\n",
    "        self.clf23 = LGBMClassifier()\n",
    "\n",
    "\n",
    "    def fit(self, X, y):\n",
    "        X, _ = check_X_y(X, y)\n",
    "        \n",
    "        self.classes_ = unique_labels(y)\n",
    "\n",
    "        self.X_ = X\n",
    "        self.y_ = y\n",
    "    \n",
    "        _, n = np.unique(self.y_, return_counts=True)\n",
    "        \n",
    "        # Classifier 0\n",
    "        k = n[0]*4\n",
    "        strategy = {0 : k, 1 : int(k/5), 2 : int(k/5), 3 : int(k/5), 4 : int(k/5), 5 : int(k/5)}\n",
    "\n",
    "        X_train0, y_train0 = new_sampling(self.X_, self.y_, strategy)\n",
    "        y_train0 = y_train0.apply(lambda x : 1 if x == 0 else 0)\n",
    "\n",
    "        self.clf0 = self.clf0.fit(X_train0, y_train0)\n",
    "        \n",
    "        # Classifier 1\n",
    "        k = n[1]*7\n",
    "        strategy = {0 : int(k/5), 1 : k, 2 : int(k/5), 3 : int(k/5), 4 : int(k/5), 5 : int(k/5)}\n",
    "\n",
    "        X_train1, y_train1 = new_sampling(self.X_, self.y_, strategy)\n",
    "        y_train1 = y_train1.apply(lambda x : 1 if x == 1 else 0)\n",
    "\n",
    "        self.clf1 = self.clf1.fit(X_train1, y_train1)\n",
    "        \n",
    "        # Classifier 2\n",
    "        k = n[2]//2\n",
    "        strategy = {0 : int(k/5), 1 : int(k/5), 2 : k, 3 : int(k/5), 4 : int(k/5), 5 : int(k/5)}\n",
    "\n",
    "        X_train2, y_train2 = new_sampling(self.X_, self.y_, strategy)\n",
    "        y_train2 = y_train2.apply(lambda x : 1 if x == 2 else 0)\n",
    "\n",
    "        self.clf2 = self.clf2.fit(X_train2, y_train2)\n",
    "        \n",
    "        # Classifier 3\n",
    "        k = n[3]\n",
    "        strategy = {0 : int(k/5), 1 : int(k/5), 2 : int(k/5), 3 : k, 4 : int(k/5), 5 : int(k/5)}\n",
    "\n",
    "        X_train3, y_train3 = new_sampling(self.X_, self.y_, strategy)\n",
    "        y_train3 = y_train3.apply(lambda x : 1 if x == 3 else 0)\n",
    "\n",
    "        self.clf3 = self.clf3.fit(X_train3, y_train3)\n",
    "        \n",
    "        # Classifier 4\n",
    "        k = n[4]*15\n",
    "        strategy = {0 : int(k/5), 1 : int(k/5), 2 : int(k/5), 3 : int(k/5), 4 : k, 5 : int(k/5)}\n",
    "        X_train4, y_train4 = new_sampling(self.X_, self.y_, strategy)\n",
    "        y_train4 = y_train4.apply(lambda x : 1 if x == 4 else 0)\n",
    "\n",
    "        self.clf4 = self.clf4.fit(X_train4, y_train4)\n",
    "        \n",
    "        # Classifier 5\n",
    "        k = n[5]*30\n",
    "        strategy = {0 : int(k/5), 1 : int(k/5), 2 : int(k/5), 3 : int(k/5), 4 : int(k/5), 5 : k}\n",
    "\n",
    "        X_train5, y_train5 = new_sampling(self.X_, self.y_, strategy)\n",
    "        y_train5 = y_train5.apply(lambda x : 1 if x == 5 else 0)\n",
    "\n",
    "        self.clf5 = self.clf5.fit(X_train5, y_train5)\n",
    "\n",
    "        # Classifier 2-3\n",
    "\n",
    "        mask = (self.y_ >= 2)&(self.y_ <= 3)\n",
    "        X_train_23 = self.X_[mask]\n",
    "        y_train_23 = self.y_[mask].apply(lambda x : 0 if x == 2 else 1)\n",
    "\n",
    "        self.clf23 = RandomForestClassifier(class_weight=\"balanced\").fit(X_train_23, y_train_23)\n",
    "\n",
    "        # # Final classifier\n",
    "\n",
    "        # self.final = LogisticRegression().fit(np.array([self.clf0.predict_proba(self.X_)[:, 1], self.clf1.predict_proba(self.X_)[:, 1], self.clf2.predict_proba(self.X_)[:, 1], self.clf3.predict_proba(self.X_)[:, 1], self.clf4.predict_proba(self.X_)[:, 1], self.clf5.predict_proba(self.X_)[:, 1], self.clf23.predict_proba(self.X_)[:, 1]]).T, self.y_)\n",
    "\n",
    "        return self\n",
    "\n",
    "    def predict(self, X):\n",
    "\n",
    "        check_is_fitted(self)\n",
    "        X = check_array(X)\n",
    "\n",
    "        y_pred = np.array([self.clf0.predict_proba(X)[:, 1], self.clf1.predict_proba(X)[:, 1], self.clf2.predict_proba(X)[:, 1], self.clf3.predict_proba(X)[:, 1], self.clf4.predict_proba(X)[:, 1], self.clf5.predict_proba(X)[:, 1]])\n",
    "        y_pred = y_pred.argmax(axis = 0)\n",
    "\n",
    "        y_23 = self.clf23.predict(X)\n",
    "\n",
    "        print(y_pred.shape)\n",
    "        for i in range(len(y_pred)):\n",
    "            if y_pred[i] == 2 or y_pred[i] ==3:\n",
    "                y_pred[i] = int(y_23[i])\n",
    "                if y_pred[i] == 0:\n",
    "                    y_pred[i] = 2\n",
    "                else:\n",
    "                    y_pred[i] = 3\n",
    "\n",
    "        #y_pred = self.final.predict(np.array([self.clf0.predict_proba(X)[:, 1], self.clf1.predict_proba(X)[:, 1], self.clf2.predict_proba(X)[:, 1], self.clf3.predict_proba(X)[:, 1], self.clf4.predict_proba(X)[:, 1], self.clf5.predict_proba(X)[:, 1], self.clf23.predict_proba(X)[:, 1]]).T)\n",
    "\n",
    "        return y_pred"
   ]
  },
  {
   "cell_type": "code",
   "execution_count": 8,
   "metadata": {},
   "outputs": [
    {
     "name": "stderr",
     "output_type": "stream",
     "text": [
      "C:\\Users\\jonat\\AppData\\Local\\Programs\\Python\\Python39\\lib\\site-packages\\imblearn\\utils\\_validation.py:299: UserWarning: After over-sampling, the number of samples (88824) in class 0 will be larger than the number of samples in the majority class (class #0 -> 22206)\n",
      "  warnings.warn(\n",
      "C:\\Users\\jonat\\AppData\\Local\\Programs\\Python\\Python39\\lib\\site-packages\\imblearn\\utils\\_validation.py:299: UserWarning: After over-sampling, the number of samples (79079) in class 1 will be larger than the number of samples in the majority class (class #0 -> 15815)\n",
      "  warnings.warn(\n",
      "C:\\Users\\jonat\\AppData\\Local\\Programs\\Python\\Python39\\lib\\site-packages\\imblearn\\utils\\_validation.py:299: UserWarning: After over-sampling, the number of samples (17220) in class 4 will be larger than the number of samples in the majority class (class #0 -> 3444)\n",
      "  warnings.warn(\n",
      "C:\\Users\\jonat\\AppData\\Local\\Programs\\Python\\Python39\\lib\\site-packages\\imblearn\\utils\\_validation.py:299: UserWarning: After over-sampling, the number of samples (3000) in class 5 will be larger than the number of samples in the majority class (class #0 -> 600)\n",
      "  warnings.warn(\n"
     ]
    }
   ],
   "source": [
    "model = GigaClassifier()\n",
    "model = model.fit(X_train, y_train)"
   ]
  },
  {
   "cell_type": "code",
   "execution_count": 9,
   "metadata": {},
   "outputs": [
    {
     "name": "stdout",
     "output_type": "stream",
     "text": [
      "(77502,)\n",
      "              precision    recall  f1-score   support\n",
      "\n",
      "           0       0.95      0.73      0.82      9823\n",
      "           1       0.86      0.43      0.58      7332\n",
      "           2       0.75      0.80      0.77     38444\n",
      "           3       0.48      0.68      0.56     17475\n",
      "           4       0.65      0.06      0.11      4026\n",
      "           5       0.26      0.02      0.04       402\n",
      "\n",
      "    accuracy                           0.69     77502\n",
      "   macro avg       0.66      0.45      0.48     77502\n",
      "weighted avg       0.72      0.69      0.68     77502\n",
      "\n"
     ]
    },
    {
     "data": {
      "text/plain": [
       "array([[ 7152,    21,  1663,   978,     8,     1],\n",
       "       [   57,  3189,  1325,  2739,    18,     4],\n",
       "       [  124,   225, 30680,  7355,    50,    10],\n",
       "       [  151,   234,  5094, 11940,    53,     3],\n",
       "       [   43,    40,  1986,  1701,   249,     7],\n",
       "       [    5,    14,   218,   150,     6,     9]], dtype=int64)"
      ]
     },
     "execution_count": 9,
     "metadata": {},
     "output_type": "execute_result"
    }
   ],
   "source": [
    "y_pred = model.predict(X_test)\n",
    "\n",
    "print(classification_report(y_pred, y_test))\n",
    "confusion_matrix(y_pred, y_test)"
   ]
  },
  {
   "cell_type": "code",
   "execution_count": 52,
   "metadata": {},
   "outputs": [],
   "source": [
    "test_data = test_data.drop(columns = [\"change_type\"])"
   ]
  },
  {
   "cell_type": "code",
   "execution_count": 57,
   "metadata": {},
   "outputs": [
    {
     "name": "stdout",
     "output_type": "stream",
     "text": [
      "(121704,)\n",
      "(121704,)\n"
     ]
    }
   ],
   "source": [
    "# For submission\n",
    "\n",
    "y_pred_final = model.predict(test_data)\n",
    "print(y_pred_final.shape)\n",
    "\n",
    "pred_df = pd.DataFrame(y_pred_final, columns=['change_type'])\n",
    "pred_df.to_csv(\"fourth_sample_submission.csv\", index=True, index_label='Id')"
   ]
  },
  {
   "cell_type": "markdown",
   "metadata": {},
   "source": [
    "Note : 1) C'était mieux avec Logistic 2) Faut vraiment bosser sur comment différencier 2 et 3"
   ]
  }
 ],
 "metadata": {
  "interpreter": {
   "hash": "31f2aee4e71d21fbe5cf8b01ff0e069b9275f58929596ceb00d14d90e3e16cd6"
  },
  "kernelspec": {
   "display_name": "Python 3.8.10 64-bit",
   "language": "python",
   "name": "python3"
  },
  "language_info": {
   "codemirror_mode": {
    "name": "ipython",
    "version": 3
   },
   "file_extension": ".py",
   "mimetype": "text/x-python",
   "name": "python",
   "nbconvert_exporter": "python",
   "pygments_lexer": "ipython3",
   "version": "3.9.0"
  },
  "orig_nbformat": 4
 },
 "nbformat": 4,
 "nbformat_minor": 2
}
