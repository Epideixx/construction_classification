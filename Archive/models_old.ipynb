{
 "cells": [
  {
   "cell_type": "markdown",
   "metadata": {},
   "source": [
    "<h1> Building the model"
   ]
  },
  {
   "cell_type": "markdown",
   "metadata": {},
   "source": [
    "<h2> Deep Learning"
   ]
  },
  {
   "cell_type": "markdown",
   "metadata": {},
   "source": [
    "<h3> Preparing the train and test data"
   ]
  },
  {
   "cell_type": "code",
   "execution_count": 5,
   "metadata": {},
   "outputs": [],
   "source": [
    "train_df = pd.read_csv(\"preprocessed_train.csv\", index_col = \"Id\")\n",
    "test_df = pd.read_csv(\"preprocessed_test.csv\", index_col = \"Id\")"
   ]
  },
  {
   "cell_type": "code",
   "execution_count": 6,
   "metadata": {},
   "outputs": [],
   "source": [
    "# Let's get our final train data and test data\n",
    "\n",
    "feature_target = \"change_type\"\n",
    "\n",
    "train_df[feature_target] = train_df[feature_target].map({'Demolition': 0, 'Road': 1, 'Residential': 2, 'Commercial': 3, 'Industrial': 4,\n",
    "       'Mega Projects': 5})"
   ]
  },
  {
   "cell_type": "code",
   "execution_count": 7,
   "metadata": {},
   "outputs": [],
   "source": [
    "train_df = train_df.drop(columns = [\"index\"])\n",
    "test_df = test_df.drop(columns = [\"index\"])"
   ]
  },
  {
   "cell_type": "code",
   "execution_count": 8,
   "metadata": {},
   "outputs": [],
   "source": [
    "from sklearn.model_selection import train_test_split\n",
    "\n",
    "X_train, X_test, y_train, y_test = train_test_split(train_df.drop(columns = [feature_target]), train_df[feature_target], test_size = 0.2)"
   ]
  },
  {
   "cell_type": "code",
   "execution_count": 9,
   "metadata": {},
   "outputs": [],
   "source": [
    "from imblearn.over_sampling import SMOTE \n",
    "\n",
    "sm = SMOTE(random_state=42)\n",
    "\n",
    "X_sm_train, y_sm_train = sm.fit_resample(X_train, y_train)"
   ]
  },
  {
   "cell_type": "markdown",
   "metadata": {},
   "source": [
    "<h3> Creating the model"
   ]
  },
  {
   "cell_type": "code",
   "execution_count": 10,
   "metadata": {},
   "outputs": [
    {
     "name": "stderr",
     "output_type": "stream",
     "text": [
      "2022-01-13 22:07:11.917016: W tensorflow/stream_executor/platform/default/dso_loader.cc:64] Could not load dynamic library 'libcudart.so.11.0'; dlerror: libcudart.so.11.0: cannot open shared object file: No such file or directory\n",
      "2022-01-13 22:07:11.917036: I tensorflow/stream_executor/cuda/cudart_stub.cc:29] Ignore above cudart dlerror if you do not have a GPU set up on your machine.\n",
      "2022-01-13 22:07:13.712391: W tensorflow/stream_executor/platform/default/dso_loader.cc:64] Could not load dynamic library 'libcuda.so.1'; dlerror: libcuda.so.1: cannot open shared object file: No such file or directory\n",
      "2022-01-13 22:07:13.712419: W tensorflow/stream_executor/cuda/cuda_driver.cc:269] failed call to cuInit: UNKNOWN ERROR (303)\n",
      "2022-01-13 22:07:13.712437: I tensorflow/stream_executor/cuda/cuda_diagnostics.cc:156] kernel driver does not appear to be running on this host (epideixx-G3-3500): /proc/driver/nvidia/version does not exist\n",
      "2022-01-13 22:07:13.712584: I tensorflow/core/platform/cpu_feature_guard.cc:151] This TensorFlow binary is optimized with oneAPI Deep Neural Network Library (oneDNN) to use the following CPU instructions in performance-critical operations:  AVX2 FMA\n",
      "To enable them in other operations, rebuild TensorFlow with the appropriate compiler flags.\n"
     ]
    }
   ],
   "source": [
    "from keras.layers import Input, Dense, Concatenate, BatchNormalization, Dropout\n",
    "import keras\n",
    "\n",
    "n_outputs = 6\n",
    "\n",
    "input_ = Input(shape = X_train.shape[1])\n",
    "input_ = Dropout(0.2)(input_)\n",
    "hidden1 = Dense(64, activation=\"elu\")(input_)\n",
    "hidden1 = BatchNormalization()(hidden1)\n",
    "hidden1 = Dropout(0.2)(hidden1)\n",
    "hidden2 = Dense(32, activation=\"elu\")(hidden1)\n",
    "hidden2 = BatchNormalization()(hidden2)\n",
    "hidden2 = Dropout(0.2)(hidden2)\n",
    "concat = Concatenate()([hidden2, input_])\n",
    "concat = BatchNormalization()(concat)\n",
    "output = Dense(n_outputs, activation= \"softmax\")(concat)\n",
    "model = keras.Model(inputs = [input_], outputs = [output])\n",
    "\n",
    "model.compile(optimizer = \"rmsprop\", loss = \"sparse_categorical_crossentropy\", metrics = [\"accuracy\"])"
   ]
  },
  {
   "cell_type": "code",
   "execution_count": 11,
   "metadata": {},
   "outputs": [
    {
     "data": {
      "text/html": [
       "<div>\n",
       "<style scoped>\n",
       "    .dataframe tbody tr th:only-of-type {\n",
       "        vertical-align: middle;\n",
       "    }\n",
       "\n",
       "    .dataframe tbody tr th {\n",
       "        vertical-align: top;\n",
       "    }\n",
       "\n",
       "    .dataframe thead th {\n",
       "        text-align: right;\n",
       "    }\n",
       "</style>\n",
       "<table border=\"1\" class=\"dataframe\">\n",
       "  <thead>\n",
       "    <tr style=\"text-align: right;\">\n",
       "      <th></th>\n",
       "      <th>date2</th>\n",
       "      <th>date3</th>\n",
       "      <th>date4</th>\n",
       "      <th>date5</th>\n",
       "      <th>geometry</th>\n",
       "      <th>Dense Urban</th>\n",
       "      <th>Industrial</th>\n",
       "      <th>None</th>\n",
       "      <th>Rural</th>\n",
       "      <th>Sparse Urban</th>\n",
       "      <th>...</th>\n",
       "      <th>change_status_date5_Construction Done</th>\n",
       "      <th>change_status_date5_Construction Midway</th>\n",
       "      <th>change_status_date5_Construction Started</th>\n",
       "      <th>change_status_date5_Excavation</th>\n",
       "      <th>change_status_date5_Greenland</th>\n",
       "      <th>change_status_date5_Land Cleared</th>\n",
       "      <th>change_status_date5_Materials Dumped</th>\n",
       "      <th>change_status_date5_NA</th>\n",
       "      <th>change_status_date5_Operational</th>\n",
       "      <th>change_status_date5_Prior Construction</th>\n",
       "    </tr>\n",
       "    <tr>\n",
       "      <th>Id</th>\n",
       "      <th></th>\n",
       "      <th></th>\n",
       "      <th></th>\n",
       "      <th></th>\n",
       "      <th></th>\n",
       "      <th></th>\n",
       "      <th></th>\n",
       "      <th></th>\n",
       "      <th></th>\n",
       "      <th></th>\n",
       "      <th></th>\n",
       "      <th></th>\n",
       "      <th></th>\n",
       "      <th></th>\n",
       "      <th></th>\n",
       "      <th></th>\n",
       "      <th></th>\n",
       "      <th></th>\n",
       "      <th></th>\n",
       "      <th></th>\n",
       "      <th></th>\n",
       "    </tr>\n",
       "  </thead>\n",
       "  <tbody>\n",
       "    <tr>\n",
       "      <th>289425</th>\n",
       "      <td>151</td>\n",
       "      <td>903</td>\n",
       "      <td>1471</td>\n",
       "      <td>1866</td>\n",
       "      <td>4.751322e-09</td>\n",
       "      <td>0</td>\n",
       "      <td>0</td>\n",
       "      <td>1</td>\n",
       "      <td>0</td>\n",
       "      <td>0</td>\n",
       "      <td>...</td>\n",
       "      <td>1</td>\n",
       "      <td>0</td>\n",
       "      <td>0</td>\n",
       "      <td>0</td>\n",
       "      <td>0</td>\n",
       "      <td>0</td>\n",
       "      <td>0</td>\n",
       "      <td>0</td>\n",
       "      <td>0</td>\n",
       "      <td>0</td>\n",
       "    </tr>\n",
       "    <tr>\n",
       "      <th>143552</th>\n",
       "      <td>363</td>\n",
       "      <td>602</td>\n",
       "      <td>1097</td>\n",
       "      <td>1403</td>\n",
       "      <td>8.000758e-08</td>\n",
       "      <td>0</td>\n",
       "      <td>1</td>\n",
       "      <td>0</td>\n",
       "      <td>0</td>\n",
       "      <td>0</td>\n",
       "      <td>...</td>\n",
       "      <td>0</td>\n",
       "      <td>0</td>\n",
       "      <td>0</td>\n",
       "      <td>0</td>\n",
       "      <td>0</td>\n",
       "      <td>1</td>\n",
       "      <td>0</td>\n",
       "      <td>0</td>\n",
       "      <td>0</td>\n",
       "      <td>0</td>\n",
       "    </tr>\n",
       "    <tr>\n",
       "      <th>18924</th>\n",
       "      <td>294</td>\n",
       "      <td>918</td>\n",
       "      <td>1320</td>\n",
       "      <td>2057</td>\n",
       "      <td>2.443948e-09</td>\n",
       "      <td>0</td>\n",
       "      <td>0</td>\n",
       "      <td>0</td>\n",
       "      <td>0</td>\n",
       "      <td>1</td>\n",
       "      <td>...</td>\n",
       "      <td>1</td>\n",
       "      <td>0</td>\n",
       "      <td>0</td>\n",
       "      <td>0</td>\n",
       "      <td>0</td>\n",
       "      <td>0</td>\n",
       "      <td>0</td>\n",
       "      <td>0</td>\n",
       "      <td>0</td>\n",
       "      <td>0</td>\n",
       "    </tr>\n",
       "    <tr>\n",
       "      <th>193593</th>\n",
       "      <td>565</td>\n",
       "      <td>860</td>\n",
       "      <td>1684</td>\n",
       "      <td>2156</td>\n",
       "      <td>2.642707e-07</td>\n",
       "      <td>0</td>\n",
       "      <td>0</td>\n",
       "      <td>0</td>\n",
       "      <td>0</td>\n",
       "      <td>1</td>\n",
       "      <td>...</td>\n",
       "      <td>1</td>\n",
       "      <td>0</td>\n",
       "      <td>0</td>\n",
       "      <td>0</td>\n",
       "      <td>0</td>\n",
       "      <td>0</td>\n",
       "      <td>0</td>\n",
       "      <td>0</td>\n",
       "      <td>0</td>\n",
       "      <td>0</td>\n",
       "    </tr>\n",
       "    <tr>\n",
       "      <th>194670</th>\n",
       "      <td>332</td>\n",
       "      <td>1137</td>\n",
       "      <td>1406</td>\n",
       "      <td>1983</td>\n",
       "      <td>3.230128e-08</td>\n",
       "      <td>0</td>\n",
       "      <td>0</td>\n",
       "      <td>0</td>\n",
       "      <td>1</td>\n",
       "      <td>0</td>\n",
       "      <td>...</td>\n",
       "      <td>1</td>\n",
       "      <td>0</td>\n",
       "      <td>0</td>\n",
       "      <td>0</td>\n",
       "      <td>0</td>\n",
       "      <td>0</td>\n",
       "      <td>0</td>\n",
       "      <td>0</td>\n",
       "      <td>0</td>\n",
       "      <td>0</td>\n",
       "    </tr>\n",
       "    <tr>\n",
       "      <th>...</th>\n",
       "      <td>...</td>\n",
       "      <td>...</td>\n",
       "      <td>...</td>\n",
       "      <td>...</td>\n",
       "      <td>...</td>\n",
       "      <td>...</td>\n",
       "      <td>...</td>\n",
       "      <td>...</td>\n",
       "      <td>...</td>\n",
       "      <td>...</td>\n",
       "      <td>...</td>\n",
       "      <td>...</td>\n",
       "      <td>...</td>\n",
       "      <td>...</td>\n",
       "      <td>...</td>\n",
       "      <td>...</td>\n",
       "      <td>...</td>\n",
       "      <td>...</td>\n",
       "      <td>...</td>\n",
       "      <td>...</td>\n",
       "      <td>...</td>\n",
       "    </tr>\n",
       "    <tr>\n",
       "      <th>160838</th>\n",
       "      <td>898</td>\n",
       "      <td>1105</td>\n",
       "      <td>1534</td>\n",
       "      <td>2110</td>\n",
       "      <td>2.450035e-07</td>\n",
       "      <td>1</td>\n",
       "      <td>0</td>\n",
       "      <td>0</td>\n",
       "      <td>0</td>\n",
       "      <td>0</td>\n",
       "      <td>...</td>\n",
       "      <td>0</td>\n",
       "      <td>0</td>\n",
       "      <td>0</td>\n",
       "      <td>0</td>\n",
       "      <td>0</td>\n",
       "      <td>0</td>\n",
       "      <td>0</td>\n",
       "      <td>0</td>\n",
       "      <td>1</td>\n",
       "      <td>0</td>\n",
       "    </tr>\n",
       "    <tr>\n",
       "      <th>281255</th>\n",
       "      <td>573</td>\n",
       "      <td>980</td>\n",
       "      <td>993</td>\n",
       "      <td>1731</td>\n",
       "      <td>2.641659e-09</td>\n",
       "      <td>0</td>\n",
       "      <td>1</td>\n",
       "      <td>0</td>\n",
       "      <td>0</td>\n",
       "      <td>0</td>\n",
       "      <td>...</td>\n",
       "      <td>0</td>\n",
       "      <td>1</td>\n",
       "      <td>0</td>\n",
       "      <td>0</td>\n",
       "      <td>0</td>\n",
       "      <td>0</td>\n",
       "      <td>0</td>\n",
       "      <td>0</td>\n",
       "      <td>0</td>\n",
       "      <td>0</td>\n",
       "    </tr>\n",
       "    <tr>\n",
       "      <th>111518</th>\n",
       "      <td>213</td>\n",
       "      <td>592</td>\n",
       "      <td>934</td>\n",
       "      <td>1425</td>\n",
       "      <td>1.263812e-07</td>\n",
       "      <td>0</td>\n",
       "      <td>0</td>\n",
       "      <td>0</td>\n",
       "      <td>0</td>\n",
       "      <td>1</td>\n",
       "      <td>...</td>\n",
       "      <td>1</td>\n",
       "      <td>0</td>\n",
       "      <td>0</td>\n",
       "      <td>0</td>\n",
       "      <td>0</td>\n",
       "      <td>0</td>\n",
       "      <td>0</td>\n",
       "      <td>0</td>\n",
       "      <td>0</td>\n",
       "      <td>0</td>\n",
       "    </tr>\n",
       "    <tr>\n",
       "      <th>259130</th>\n",
       "      <td>766</td>\n",
       "      <td>1100</td>\n",
       "      <td>1325</td>\n",
       "      <td>1729</td>\n",
       "      <td>3.812050e-08</td>\n",
       "      <td>0</td>\n",
       "      <td>1</td>\n",
       "      <td>0</td>\n",
       "      <td>0</td>\n",
       "      <td>0</td>\n",
       "      <td>...</td>\n",
       "      <td>1</td>\n",
       "      <td>0</td>\n",
       "      <td>0</td>\n",
       "      <td>0</td>\n",
       "      <td>0</td>\n",
       "      <td>0</td>\n",
       "      <td>0</td>\n",
       "      <td>0</td>\n",
       "      <td>0</td>\n",
       "      <td>0</td>\n",
       "    </tr>\n",
       "    <tr>\n",
       "      <th>281352</th>\n",
       "      <td>573</td>\n",
       "      <td>980</td>\n",
       "      <td>993</td>\n",
       "      <td>1731</td>\n",
       "      <td>4.895156e-09</td>\n",
       "      <td>0</td>\n",
       "      <td>0</td>\n",
       "      <td>0</td>\n",
       "      <td>0</td>\n",
       "      <td>1</td>\n",
       "      <td>...</td>\n",
       "      <td>1</td>\n",
       "      <td>0</td>\n",
       "      <td>0</td>\n",
       "      <td>0</td>\n",
       "      <td>0</td>\n",
       "      <td>0</td>\n",
       "      <td>0</td>\n",
       "      <td>0</td>\n",
       "      <td>0</td>\n",
       "      <td>0</td>\n",
       "    </tr>\n",
       "  </tbody>\n",
       "</table>\n",
       "<p>248004 rows × 73 columns</p>\n",
       "</div>"
      ],
      "text/plain": [
       "        date2  date3  date4  date5      geometry  Dense Urban  Industrial  \\\n",
       "Id                                                                          \n",
       "289425    151    903   1471   1866  4.751322e-09            0           0   \n",
       "143552    363    602   1097   1403  8.000758e-08            0           1   \n",
       "18924     294    918   1320   2057  2.443948e-09            0           0   \n",
       "193593    565    860   1684   2156  2.642707e-07            0           0   \n",
       "194670    332   1137   1406   1983  3.230128e-08            0           0   \n",
       "...       ...    ...    ...    ...           ...          ...         ...   \n",
       "160838    898   1105   1534   2110  2.450035e-07            1           0   \n",
       "281255    573    980    993   1731  2.641659e-09            0           1   \n",
       "111518    213    592    934   1425  1.263812e-07            0           0   \n",
       "259130    766   1100   1325   1729  3.812050e-08            0           1   \n",
       "281352    573    980    993   1731  4.895156e-09            0           0   \n",
       "\n",
       "        None  Rural  Sparse Urban  ...  change_status_date5_Construction Done  \\\n",
       "Id                                 ...                                          \n",
       "289425     1      0             0  ...                                      1   \n",
       "143552     0      0             0  ...                                      0   \n",
       "18924      0      0             1  ...                                      1   \n",
       "193593     0      0             1  ...                                      1   \n",
       "194670     0      1             0  ...                                      1   \n",
       "...      ...    ...           ...  ...                                    ...   \n",
       "160838     0      0             0  ...                                      0   \n",
       "281255     0      0             0  ...                                      0   \n",
       "111518     0      0             1  ...                                      1   \n",
       "259130     0      0             0  ...                                      1   \n",
       "281352     0      0             1  ...                                      1   \n",
       "\n",
       "        change_status_date5_Construction Midway  \\\n",
       "Id                                                \n",
       "289425                                        0   \n",
       "143552                                        0   \n",
       "18924                                         0   \n",
       "193593                                        0   \n",
       "194670                                        0   \n",
       "...                                         ...   \n",
       "160838                                        0   \n",
       "281255                                        1   \n",
       "111518                                        0   \n",
       "259130                                        0   \n",
       "281352                                        0   \n",
       "\n",
       "        change_status_date5_Construction Started  \\\n",
       "Id                                                 \n",
       "289425                                         0   \n",
       "143552                                         0   \n",
       "18924                                          0   \n",
       "193593                                         0   \n",
       "194670                                         0   \n",
       "...                                          ...   \n",
       "160838                                         0   \n",
       "281255                                         0   \n",
       "111518                                         0   \n",
       "259130                                         0   \n",
       "281352                                         0   \n",
       "\n",
       "        change_status_date5_Excavation  change_status_date5_Greenland  \\\n",
       "Id                                                                      \n",
       "289425                               0                              0   \n",
       "143552                               0                              0   \n",
       "18924                                0                              0   \n",
       "193593                               0                              0   \n",
       "194670                               0                              0   \n",
       "...                                ...                            ...   \n",
       "160838                               0                              0   \n",
       "281255                               0                              0   \n",
       "111518                               0                              0   \n",
       "259130                               0                              0   \n",
       "281352                               0                              0   \n",
       "\n",
       "        change_status_date5_Land Cleared  \\\n",
       "Id                                         \n",
       "289425                                 0   \n",
       "143552                                 1   \n",
       "18924                                  0   \n",
       "193593                                 0   \n",
       "194670                                 0   \n",
       "...                                  ...   \n",
       "160838                                 0   \n",
       "281255                                 0   \n",
       "111518                                 0   \n",
       "259130                                 0   \n",
       "281352                                 0   \n",
       "\n",
       "        change_status_date5_Materials Dumped  change_status_date5_NA  \\\n",
       "Id                                                                     \n",
       "289425                                     0                       0   \n",
       "143552                                     0                       0   \n",
       "18924                                      0                       0   \n",
       "193593                                     0                       0   \n",
       "194670                                     0                       0   \n",
       "...                                      ...                     ...   \n",
       "160838                                     0                       0   \n",
       "281255                                     0                       0   \n",
       "111518                                     0                       0   \n",
       "259130                                     0                       0   \n",
       "281352                                     0                       0   \n",
       "\n",
       "        change_status_date5_Operational  \\\n",
       "Id                                        \n",
       "289425                                0   \n",
       "143552                                0   \n",
       "18924                                 0   \n",
       "193593                                0   \n",
       "194670                                0   \n",
       "...                                 ...   \n",
       "160838                                1   \n",
       "281255                                0   \n",
       "111518                                0   \n",
       "259130                                0   \n",
       "281352                                0   \n",
       "\n",
       "        change_status_date5_Prior Construction  \n",
       "Id                                              \n",
       "289425                                       0  \n",
       "143552                                       0  \n",
       "18924                                        0  \n",
       "193593                                       0  \n",
       "194670                                       0  \n",
       "...                                        ...  \n",
       "160838                                       0  \n",
       "281255                                       0  \n",
       "111518                                       0  \n",
       "259130                                       0  \n",
       "281352                                       0  \n",
       "\n",
       "[248004 rows x 73 columns]"
      ]
     },
     "execution_count": 11,
     "metadata": {},
     "output_type": "execute_result"
    }
   ],
   "source": [
    "X_train"
   ]
  },
  {
   "cell_type": "code",
   "execution_count": 11,
   "metadata": {},
   "outputs": [],
   "source": [
    "# The main issue is that it's going to affect the future validation data too ...\n",
    "\n",
    "from sklearn.preprocessing import RobustScaler, StandardScaler\n",
    "from sklearn.compose import ColumnTransformer\n",
    "\n",
    "dates = [\"date2\", \"date3\", \"date4\", \"date5\"]\n",
    "\n",
    "ct = ColumnTransformer([\n",
    "        ('date_scaler', StandardScaler(), dates),\n",
    "        ('geometry_scaler', RobustScaler(), [\"geometry\"])\n",
    "    ], remainder='passthrough')\n",
    "\n",
    "X_train = ct.fit_transform(X_train)\n",
    "X_sm_train = ct.fit_transform(X_sm_train)\n",
    "X_test = ct.transform(X_test)\n"
   ]
  },
  {
   "cell_type": "code",
   "execution_count": 12,
   "metadata": {},
   "outputs": [],
   "source": [
    "X_final = test_df\n",
    "X_final = ct.transform(X_final)"
   ]
  },
  {
   "cell_type": "code",
   "execution_count": 9,
   "metadata": {},
   "outputs": [
    {
     "data": {
      "text/plain": [
       "(248004, 73)"
      ]
     },
     "execution_count": 9,
     "metadata": {},
     "output_type": "execute_result"
    }
   ],
   "source": [
    "np.shape(X_train)"
   ]
  },
  {
   "cell_type": "code",
   "execution_count": 14,
   "metadata": {},
   "outputs": [],
   "source": [
    "from sklearn.utils import class_weight\n",
    "class_weights = class_weight.compute_class_weight('balanced', classes = np.unique(y_train), y = y_train)\n",
    "\n",
    "class_weights = {i : e for i, e in enumerate(class_weights)}"
   ]
  },
  {
   "cell_type": "code",
   "execution_count": 15,
   "metadata": {},
   "outputs": [
    {
     "name": "stdout",
     "output_type": "stream",
     "text": [
      "Epoch 1/30\n",
      "4915/4915 [==============================] - 11s 2ms/step - loss: 0.6388 - accuracy: 0.7413 - val_loss: 18.7396 - val_accuracy: 0.1533\n",
      "Epoch 2/30\n",
      "4915/4915 [==============================] - 10s 2ms/step - loss: 0.6295 - accuracy: 0.7450 - val_loss: 17.4516 - val_accuracy: 0.1564\n",
      "Epoch 3/30\n",
      "4915/4915 [==============================] - 10s 2ms/step - loss: 0.6245 - accuracy: 0.7474 - val_loss: 17.1807 - val_accuracy: 0.1521\n",
      "Epoch 4/30\n",
      "4915/4915 [==============================] - 10s 2ms/step - loss: 0.6213 - accuracy: 0.7488 - val_loss: 16.6044 - val_accuracy: 0.1500\n",
      "Epoch 5/30\n",
      "4915/4915 [==============================] - 10s 2ms/step - loss: 0.6181 - accuracy: 0.7499 - val_loss: 17.6821 - val_accuracy: 0.1529\n",
      "Epoch 6/30\n",
      "4915/4915 [==============================] - 10s 2ms/step - loss: 0.6163 - accuracy: 0.7506 - val_loss: 17.2543 - val_accuracy: 0.1534\n",
      "Epoch 7/30\n",
      "4915/4915 [==============================] - 11s 2ms/step - loss: 0.6143 - accuracy: 0.7513 - val_loss: 18.1501 - val_accuracy: 0.1535\n",
      "Epoch 8/30\n",
      "4915/4915 [==============================] - 11s 2ms/step - loss: 0.6131 - accuracy: 0.7515 - val_loss: 19.7981 - val_accuracy: 0.1549\n",
      "Epoch 9/30\n",
      "4915/4915 [==============================] - 11s 2ms/step - loss: 0.6115 - accuracy: 0.7532 - val_loss: 20.6499 - val_accuracy: 0.1535\n",
      "Epoch 10/30\n",
      "4915/4915 [==============================] - 12s 2ms/step - loss: 0.6098 - accuracy: 0.7533 - val_loss: 20.4771 - val_accuracy: 0.1540\n",
      "Epoch 11/30\n",
      "4915/4915 [==============================] - 13s 3ms/step - loss: 0.6095 - accuracy: 0.7528 - val_loss: 22.4184 - val_accuracy: 0.1577\n",
      "Epoch 12/30\n",
      "4915/4915 [==============================] - 12s 2ms/step - loss: 0.6082 - accuracy: 0.7540 - val_loss: 21.4745 - val_accuracy: 0.1532\n",
      "Epoch 13/30\n",
      "4915/4915 [==============================] - 11s 2ms/step - loss: 0.6080 - accuracy: 0.7543 - val_loss: 20.6964 - val_accuracy: 0.1562\n",
      "Epoch 14/30\n",
      "4915/4915 [==============================] - 11s 2ms/step - loss: 0.6067 - accuracy: 0.7547 - val_loss: 21.1455 - val_accuracy: 0.1542\n"
     ]
    }
   ],
   "source": [
    "from keras.callbacks import EarlyStopping\n",
    "\n",
    "cb_EarlyStopping = EarlyStopping(patience=10)\n",
    "\n",
    "history = model.fit(X_sm_train, y_sm_train, batch_size = 128, epochs = 30, validation_split = 0.2, callbacks = [cb_EarlyStopping], class_weight= None)"
   ]
  },
  {
   "cell_type": "code",
   "execution_count": 16,
   "metadata": {},
   "outputs": [
    {
     "name": "stdout",
     "output_type": "stream",
     "text": [
      "1938/1938 [==============================] - 1s 723us/step - loss: 0.7590 - accuracy: 0.6813\n"
     ]
    },
    {
     "data": {
      "text/plain": [
       "[0.7590062022209167, 0.681348979473114]"
      ]
     },
     "execution_count": 16,
     "metadata": {},
     "output_type": "execute_result"
    }
   ],
   "source": [
    "model.evaluate(X_test, y_test)"
   ]
  },
  {
   "cell_type": "code",
   "execution_count": 19,
   "metadata": {},
   "outputs": [
    {
     "name": "stdout",
     "output_type": "stream",
     "text": [
      "7\n"
     ]
    },
    {
     "ename": "ValueError",
     "evalue": "DataFrame constructor not properly called!",
     "output_type": "error",
     "traceback": [
      "\u001b[0;31m---------------------------------------------------------------------------\u001b[0m",
      "\u001b[0;31mValueError\u001b[0m                                Traceback (most recent call last)",
      "Input \u001b[0;32mIn [19]\u001b[0m, in \u001b[0;36m<module>\u001b[0;34m\u001b[0m\n\u001b[1;32m      1\u001b[0m y_test \u001b[38;5;241m=\u001b[39m np\u001b[38;5;241m.\u001b[39margmax(model\u001b[38;5;241m.\u001b[39mpredict(X_final))\n\u001b[1;32m      2\u001b[0m \u001b[38;5;28mprint\u001b[39m(y_test)\n\u001b[0;32m----> 3\u001b[0m pred_df \u001b[38;5;241m=\u001b[39m \u001b[43mpd\u001b[49m\u001b[38;5;241;43m.\u001b[39;49m\u001b[43mDataFrame\u001b[49m\u001b[43m(\u001b[49m\u001b[43my_test\u001b[49m\u001b[43m,\u001b[49m\u001b[43m \u001b[49m\u001b[43mcolumns\u001b[49m\u001b[38;5;241;43m=\u001b[39;49m\u001b[43m[\u001b[49m\u001b[38;5;124;43m'\u001b[39;49m\u001b[38;5;124;43mchange_type\u001b[39;49m\u001b[38;5;124;43m'\u001b[39;49m\u001b[43m]\u001b[49m\u001b[43m)\u001b[49m\n\u001b[1;32m      4\u001b[0m pred_df\u001b[38;5;241m.\u001b[39mto_csv(\u001b[38;5;124m'\u001b[39m\u001b[38;5;124mnn_sample_submission.csv\u001b[39m\u001b[38;5;124m'\u001b[39m, index \u001b[38;5;241m=\u001b[39m \u001b[38;5;28;01mTrue\u001b[39;00m, index_label \u001b[38;5;241m=\u001b[39m \u001b[38;5;124m'\u001b[39m\u001b[38;5;124mId\u001b[39m\u001b[38;5;124m'\u001b[39m)\n",
      "File \u001b[0;32m~/.local/lib/python3.8/site-packages/pandas/core/frame.py:730\u001b[0m, in \u001b[0;36mDataFrame.__init__\u001b[0;34m(self, data, index, columns, dtype, copy)\u001b[0m\n\u001b[1;32m    727\u001b[0m \u001b[38;5;66;03m# For data is scalar\u001b[39;00m\n\u001b[1;32m    728\u001b[0m \u001b[38;5;28;01melse\u001b[39;00m:\n\u001b[1;32m    729\u001b[0m     \u001b[38;5;28;01mif\u001b[39;00m index \u001b[38;5;129;01mis\u001b[39;00m \u001b[38;5;28;01mNone\u001b[39;00m \u001b[38;5;129;01mor\u001b[39;00m columns \u001b[38;5;129;01mis\u001b[39;00m \u001b[38;5;28;01mNone\u001b[39;00m:\n\u001b[0;32m--> 730\u001b[0m         \u001b[38;5;28;01mraise\u001b[39;00m \u001b[38;5;167;01mValueError\u001b[39;00m(\u001b[38;5;124m\"\u001b[39m\u001b[38;5;124mDataFrame constructor not properly called!\u001b[39m\u001b[38;5;124m\"\u001b[39m)\n\u001b[1;32m    732\u001b[0m     \u001b[38;5;66;03m# Argument 1 to \"ensure_index\" has incompatible type \"Collection[Any]\";\u001b[39;00m\n\u001b[1;32m    733\u001b[0m     \u001b[38;5;66;03m# expected \"Union[Union[Union[ExtensionArray, ndarray],\u001b[39;00m\n\u001b[1;32m    734\u001b[0m     \u001b[38;5;66;03m# Index, Series], Sequence[Any]]\"\u001b[39;00m\n\u001b[1;32m    735\u001b[0m     index \u001b[38;5;241m=\u001b[39m ensure_index(index)  \u001b[38;5;66;03m# type: ignore[arg-type]\u001b[39;00m\n",
      "\u001b[0;31mValueError\u001b[0m: DataFrame constructor not properly called!"
     ]
    }
   ],
   "source": [
    "y_test = np.argmax(model.predict(X_final), axis = -1)\n",
    "print(y_test)\n",
    "pred_df = pd.DataFrame(y_test, columns=['change_type'])\n",
    "pred_df.to_csv('nn_sample_submission.csv', index = True, index_label = 'Id')"
   ]
  },
  {
   "cell_type": "code",
   "execution_count": 141,
   "metadata": {},
   "outputs": [
    {
     "data": {
      "text/plain": [
       "[<matplotlib.lines.Line2D at 0x7fa27a032700>,\n",
       " <matplotlib.lines.Line2D at 0x7fa27a032760>,\n",
       " <matplotlib.lines.Line2D at 0x7fa27a032880>,\n",
       " <matplotlib.lines.Line2D at 0x7fa27a0329a0>]"
      ]
     },
     "execution_count": 141,
     "metadata": {},
     "output_type": "execute_result"
    },
    {
     "data": {
      "image/png": "[encoded data removed]",
      "text/plain": [
       "<Figure size 432x288 with 1 Axes>"
      ]
     },
     "metadata": {
      "needs_background": "light"
     },
     "output_type": "display_data"
    }
   ],
   "source": [
    "plt.plot(pd.DataFrame(history.history))"
   ]
  },
  {
   "cell_type": "markdown",
   "metadata": {},
   "source": [
    "<h2> Others models"
   ]
  },
  {
   "cell_type": "code",
   "execution_count": 142,
   "metadata": {},
   "outputs": [],
   "source": [
    "from sklearn.ensemble import GradientBoostingClassifier\n",
    "\n",
    "clf = GradientBoostingClassifier(n_estimators=100, learning_rate=1.0).fit(X_train, y_train)"
   ]
  },
  {
   "cell_type": "code",
   "execution_count": null,
   "metadata": {},
   "outputs": [
    {
     "data": {
      "text/plain": [
       "0.6551885423050869"
      ]
     },
     "execution_count": 143,
     "metadata": {},
     "output_type": "execute_result"
    }
   ],
   "source": [
    "clf.score(X_test, y_test)"
   ]
  },
  {
   "cell_type": "code",
   "execution_count": 36,
   "metadata": {},
   "outputs": [
    {
     "data": {
      "text/plain": [
       "0.7304925647559756"
      ]
     },
     "execution_count": 36,
     "metadata": {},
     "output_type": "execute_result"
    }
   ],
   "source": [
    "from sklearn.ensemble import RandomForestClassifier\n",
    "\n",
    "clf_rndForest = RandomForestClassifier().fit(X_train, y_train)\n",
    "\n",
    "clf_rndForest.score(X_test, y_test)"
   ]
  },
  {
   "cell_type": "code",
   "execution_count": 37,
   "metadata": {},
   "outputs": [
    {
     "data": {
      "text/plain": [
       "0.7304925647559756"
      ]
     },
     "execution_count": 37,
     "metadata": {},
     "output_type": "execute_result"
    }
   ],
   "source": [
    "clf_rndForest.score(X_test, y_test)"
   ]
  },
  {
   "cell_type": "code",
   "execution_count": 38,
   "metadata": {},
   "outputs": [],
   "source": [
    "y_test = clf_rndForest.predict(X_final)"
   ]
  },
  {
   "cell_type": "code",
   "execution_count": 39,
   "metadata": {},
   "outputs": [],
   "source": [
    "pred_df = pd.DataFrame(y_test, columns=['change_type'])\n",
    "pred_df.to_csv('lgb_sample_submission.csv', index = True, index_label = 'Id')"
   ]
  },
  {
   "cell_type": "code",
   "execution_count": 17,
   "metadata": {},
   "outputs": [],
   "source": [
    "from sklearn.svm import SVC\n",
    "\n",
    "clf = SVC().fit(X_train, y_train)\n",
    "\n",
    "clf.score(X_test, y_test)"
   ]
  },
  {
   "cell_type": "code",
   "execution_count": 10,
   "metadata": {},
   "outputs": [
    {
     "data": {
      "text/plain": [
       "0.7098803264410826"
      ]
     },
     "execution_count": 10,
     "metadata": {},
     "output_type": "execute_result"
    }
   ],
   "source": [
    "from sklearn.neighbors import KNeighborsClassifier\n",
    "\n",
    "clf = KNeighborsClassifier(n_neighbors=8).fit(X_train, y_train)\n",
    "\n",
    "clf.score(X_test, y_test)"
   ]
  },
  {
   "cell_type": "code",
   "execution_count": null,
   "metadata": {},
   "outputs": [],
   "source": []
  }
 ],
 "metadata": {
  "interpreter": {
   "hash": "31f2aee4e71d21fbe5cf8b01ff0e069b9275f58929596ceb00d14d90e3e16cd6"
  },
  "kernelspec": {
   "display_name": "Python 3.8.10 64-bit",
   "name": "python3"
  },
  "language_info": {
   "codemirror_mode": {
    "name": "ipython",
    "version": 3
   },
   "file_extension": ".py",
   "mimetype": "text/x-python",
   "name": "python",
   "nbconvert_exporter": "python",
   "pygments_lexer": "ipython3",
   "version": "3.8.10"
  },
  "orig_nbformat": 4
 },
 "nbformat": 4,
 "nbformat_minor": 2
}
